{
  "nbformat_minor": 0, 
  "nbformat": 4, 
  "cells": [
    {
      "execution_count": null, 
      "cell_type": "code", 
      "source": [
        "%matplotlib inline"
      ], 
      "outputs": [], 
      "metadata": {
        "collapsed": false
      }
    }, 
    {
      "source": [
        "\nProfile/signe your code dynamically (specific)\n==============================================\n\nCredit: A Grigis\n\nThe proposed module display function signatures and by default function\nline profiles. The latest option can be disabled::\n\n    import bredala\n    bredala.USE_PROFILER = False\n\nAt the beginning of your script import the project and select which specific\nfunctions/methods have to be profiled/signed (it must be done before any\nimport):\n\n"
      ], 
      "cell_type": "markdown", 
      "metadata": {}
    }, 
    {
      "execution_count": null, 
      "cell_type": "code", 
      "source": [
        "import bredala\nbredala.register(\"bredala.demo.myfunctions\", names=[\"addition\",\n                                                    \"substraction\"])\nfrom bredala.demo.myfunctions import addition, substraction, factorial\n\n\naddition(2, 1)\nsubstraction(2, 1)\nfactorial(5)"
      ], 
      "outputs": [], 
      "metadata": {
        "collapsed": false
      }
    }, 
    {
      "source": [
        "For classes we can select to follow all the methods of a class:\n\n"
      ], 
      "cell_type": "markdown", 
      "metadata": {}
    }, 
    {
      "execution_count": null, 
      "cell_type": "code", 
      "source": [
        "bredala.register(\"bredala.demo.myclasses\", names=[\"Square\"])\nfrom bredala.demo.myclasses import Square, Triangle\n\n\no = Square(\"my_square\")\no.area(2)\no = Triangle(\"my_square\")\no.area(2, 3)"
      ], 
      "outputs": [], 
      "metadata": {
        "collapsed": false
      }
    }, 
    {
      "source": [
        "We can also choose to follow specific methods (you must reload the shell as\nthe bredala regitry must be set before any import):\n\n"
      ], 
      "cell_type": "markdown", 
      "metadata": {}
    }, 
    {
      "execution_count": null, 
      "cell_type": "code", 
      "source": [
        "import bredala\nbredala.register(\"bredala.demo.myclasses\", names=[\"Square.area\",\n                                                  \"Triangle.area\"])\nfrom bredala.demo.myclasses import Square, Triangle\n\n\no = Square(\"my_square\")\no.area(2)\no = Triangle(\"my_square\")\no.area(2, 3)"
      ], 
      "outputs": [], 
      "metadata": {
        "collapsed": false
      }
    }
  ], 
  "metadata": {
    "kernelspec": {
      "display_name": "Python 2", 
      "name": "python2", 
      "language": "python"
    }, 
    "language_info": {
      "mimetype": "text/x-python", 
      "nbconvert_exporter": "python", 
      "name": "python", 
      "file_extension": ".py", 
      "version": "2.7.12", 
      "pygments_lexer": "ipython2", 
      "codemirror_mode": {
        "version": 2, 
        "name": "ipython"
      }
    }
  }
}