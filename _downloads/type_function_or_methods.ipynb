{
  "nbformat_minor": 0, 
  "nbformat": 4, 
  "cells": [
    {
      "execution_count": null, 
      "cell_type": "code", 
      "source": [
        "%matplotlib inline"
      ], 
      "outputs": [], 
      "metadata": {
        "collapsed": false
      }
    }, 
    {
      "source": [
        "\nType function or methods\n========================\n\nCredit: A Grigis\n\nThe proposed module display function/method signatures and by default function\nline profiles. The latest option can be disabled::\n\n    import bredala\n    bredala.USE_PROFILER = False\n\nAt the beginning of your script import the project and select all the\nfunctions/methods of a module that must be profiled/signed (it must be done\nbefore any import).\n\nIn this example we want to add or substract only integer values and we show\nonly the 'addition' function signature:\n\n"
      ], 
      "cell_type": "markdown", 
      "metadata": {}
    }, 
    {
      "execution_count": null, 
      "cell_type": "code", 
      "source": [
        "import bredala\nbredala.USE_PROFILER = False\nbredala.register(\"bredala.demo.myfunctions\", names=[\"addition\"])\nbredala.itype(\"bredala.demo.myfunctions\", name=\"addition\",\n              input_types=(int, int))\nbredala.otype(\"bredala.demo.myfunctions\", name=\"addition\",\n              output_types=(int, ))\nbredala.itype(\"bredala.demo.myfunctions\", name=\"substraction\",\n              input_types=(int, int))\nbredala.otype(\"bredala.demo.myfunctions\", name=\"substraction\",\n              output_types=(int, ))\nfrom bredala.demo.myfunctions import addition, substraction\n\naddition(2, 1)\nsubstraction(2, 1)"
      ], 
      "outputs": [], 
      "metadata": {
        "collapsed": false
      }
    }, 
    {
      "source": [
        "Play with the function parameters to generate errors in your notebook/code.\n\nWe can perform the same type checking on class methods:\n\n"
      ], 
      "cell_type": "markdown", 
      "metadata": {}
    }, 
    {
      "execution_count": null, 
      "cell_type": "code", 
      "source": [
        "bredala.register(\"bredala.demo.myclasses\", names=[\n    \"Square.area\", \"Triangle.__init__\"])\nbredala.itype(\"bredala.demo.myclasses\", name=\"Square.area\",\n              input_types=(\"self\", float, ))\nbredala.otype(\"bredala.demo.myclasses\", name=\"Square.area\",\n              output_types=(float, ))\nbredala.itype(\"bredala.demo.myclasses\", name=\"Triangle.area\",\n              input_types=(\"self\", float, float))\nbredala.otype(\"bredala.demo.myclasses\", name=\"Triangle.area\",\n              output_types=(float, ))\nfrom bredala.demo.myclasses import Square, Triangle\n\n\no = Square(\"my_square\")\no.area(2.)\no = Triangle(\"my_square\")\no.area(2., vertical_height=3.)"
      ], 
      "outputs": [], 
      "metadata": {
        "collapsed": false
      }
    }, 
    {
      "source": [
        "Again fill free to play with the function parameters to generate errors\nin your notebook/code.\n\n"
      ], 
      "cell_type": "markdown", 
      "metadata": {}
    }
  ], 
  "metadata": {
    "kernelspec": {
      "display_name": "Python 2", 
      "name": "python2", 
      "language": "python"
    }, 
    "language_info": {
      "mimetype": "text/x-python", 
      "nbconvert_exporter": "python", 
      "name": "python", 
      "file_extension": ".py", 
      "version": "2.7.12", 
      "pygments_lexer": "ipython2", 
      "codemirror_mode": {
        "version": 2, 
        "name": "ipython"
      }
    }
  }
}