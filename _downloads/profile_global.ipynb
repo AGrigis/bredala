{
  "nbformat_minor": 0, 
  "nbformat": 4, 
  "cells": [
    {
      "execution_count": null, 
      "cell_type": "code", 
      "source": [
        "%matplotlib inline"
      ], 
      "outputs": [], 
      "metadata": {
        "collapsed": false
      }
    }, 
    {
      "source": [
        "\nProfile/signe your code dynamically (global)\n============================================\n\nCredit: A Grigis\n\nThe proposed module display function signatures and by default function\nline profiles. The latest option can be disabled::\n\n    import bredala\n    bredala.USE_PROFILER = False\n\nAt the beginning of your script import the project and select all the\nfunctions/methods of a module that must be profiled/signed (it must be done\nbefore any import):\n\n"
      ], 
      "cell_type": "markdown", 
      "metadata": {}
    }, 
    {
      "execution_count": null, 
      "cell_type": "code", 
      "source": [
        "import bredala\nbredala.USE_PROFILER = False\nbredala.register(\"bredala.demo.myfunctions\")\nbredala.register(\"bredala.demo.myclasses\")\nfrom bredala.demo.myfunctions import addition, substraction, factorial\nfrom bredala.demo.myclasses import Square, Triangle\n\n\naddition(2, 1)\nsubstraction(2, 1)\nfactorial(2)\no = Square(\"my_square\")\no.area(2)\no = Triangle(\"my_square\")\no.area(2, 3)"
      ], 
      "outputs": [], 
      "metadata": {
        "collapsed": false
      }
    }
  ], 
  "metadata": {
    "kernelspec": {
      "display_name": "Python 2", 
      "name": "python2", 
      "language": "python"
    }, 
    "language_info": {
      "mimetype": "text/x-python", 
      "nbconvert_exporter": "python", 
      "name": "python", 
      "file_extension": ".py", 
      "version": "2.7.12", 
      "pygments_lexer": "ipython2", 
      "codemirror_mode": {
        "version": 2, 
        "name": "ipython"
      }
    }
  }
}